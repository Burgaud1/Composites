{
 "cells": [
  {
   "cell_type": "code",
   "execution_count": 3,
   "metadata": {},
   "outputs": [],
   "source": [
    "import numpy as np\n",
    "import matplotlib.pyplot as plt"
   ]
  },
  {
   "cell_type": "code",
   "execution_count": 4,
   "metadata": {},
   "outputs": [],
   "source": [
    "#Definition of the function \"moment\" to compute the moment, given the linear and ponctual loads for a simply supported beam\n",
    "def moment(q,Q,L):\n",
    "    M = (q*L**2)/8 + Q*L/4\n",
    "    return print(\"Le moment maximal en travée vaut M = \", M, 'kNm')"
   ]
  },
  {
   "cell_type": "code",
   "execution_count": 5,
   "metadata": {},
   "outputs": [],
   "source": [
    "#Definition of the function \"shear\" to compute the shear force, given the linear and ponctual loads for a simply supported beam\n",
    "def shear(q,Q,L):\n",
    "    V = q*L/2 + Q/2\n",
    "    return print(\"L'effort tranchant maximal vaut V= \", V, 'kN')"
   ]
  },
  {
   "cell_type": "code",
   "execution_count": 6,
   "metadata": {},
   "outputs": [],
   "source": [
    "#Code to define the orientations of the fibers in the different laminates and put it into a list\n",
    "def orientation(liste):\n",
    "    code_orientation = liste.split(\",\")\n",
    "    for i in range(0,len(code_orientation)):\n",
    "        code_orientation[i] = int(code_orientation[i])\n",
    "        i +=1\n",
    "    return code_orientation"
   ]
  },
  {
   "cell_type": "code",
   "execution_count": 7,
   "metadata": {},
   "outputs": [],
   "source": [
    "# This function gives the deformation for each ply, given the mechanical parameters\n",
    "def get_deformation(liste,E1,E2,nu21,nu12,G12,h,Nx,Ny,Nxy,Mx,My,Mxy):\n",
    "    Q11 = E1/(1-nu21*nu12)\n",
    "    Q12 = nu12*E2/(1-nu21*nu12)\n",
    "    Q22 = E2/(1-nu21*nu12)\n",
    "    Q66 = G12\n",
    "    \n",
    "    liste_different_orientation = []\n",
    "   \n",
    "    #To get the different angles of orientation of the fibers\n",
    "    for i in range(0,len(liste)):\n",
    "        if liste[i] in liste_different_orientation:\n",
    "            continue\n",
    "        else:\n",
    "            liste_different_orientation.append(liste[i])\n",
    "    \n",
    "    liste_different_orientation = np.array(liste_different_orientation)\n",
    "    \n",
    "    Qtot = np.zeros((len(liste_different_orientation), 3, 3))\n",
    "    \n",
    "    # To get the different matrices Q at each ply\n",
    "    for i in range(0,len(liste_different_orientation)):\n",
    "        a = liste_different_orientation[i]*(np.pi/180)\n",
    "        m = np.cos(a)\n",
    "        n = np.sin(a)\n",
    "        Qxx = Q11*m**4+Q22*n**4+2*(Q12+2*Q66)*m**2*n**2\n",
    "        Qxy = (Q11+Q22-4*Q66)*m**2*n**2+Q12*(m**4+n**4)\n",
    "        Qyy = Q11*n**4+Q22*m**4+2*(Q12+2*Q66)*m**2*n**2\n",
    "        Qxs = (Q11-Q12-2*Q66)*m**3*n-(Q22-Q12-2*Q66)*n**3*m\n",
    "        Qys = (Q11-Q12-2*Q66)*m*n**3-(Q22-Q12-2*Q66)*m**3*n\n",
    "        Qss = (Q11+Q22-2*Q12-2*Q66)*m**2*n**2+Q66*(n**4+m**4)\n",
    "        Qtot[i] = np.array([[Qxx,Qxy,Qxs],[Qxy,Qyy,Qys],[Qxs,Qys,Qss]])\n",
    "        \n",
    "    #To get the position of the different plies, with the origin at the centre of the plate (zd for down, zu for up), z axis oriented from up to down\n",
    "     \n",
    "    ply_pos = np.zeros((len(liste), 3))\n",
    "    t = h/len(liste)\n",
    "    \n",
    "    for i in range(0,len(liste)):\n",
    "        zu = -h/2+i*t\n",
    "        zd = -h/2+(i+1)*t\n",
    "        zm = (zu+zd)/2\n",
    "        ply_pos[i] = np.array([[zu,zm,zd]])\n",
    "        \n",
    "    # Global coordinates\n",
    "    coord  = ply_pos.reshape(3*len(ply_pos))\n",
    "        \n",
    "    #Definition of the matrices A,B,D\n",
    "    A = np.zeros((3, 3))\n",
    "    B = np.zeros((3, 3))\n",
    "    D = np.zeros((3, 3))\n",
    "    \n",
    "    for i in range(0,len(liste)):\n",
    "        Qx = np.zeros((3,3))\n",
    "        ply_pos_i = np.array(ply_pos[i])\n",
    "        for j in range(0,len(liste_different_orientation)):\n",
    "            if liste[i] == liste_different_orientation[j]:\n",
    "                Qx = Qtot[j]\n",
    "            else:\n",
    "                continue\n",
    "        A += Qx*(ply_pos[i,2]-ply_pos[i,0])\n",
    "        B += (1/2)*Qx*(ply_pos[i,2]**2-ply_pos[i,0]**2)\n",
    "        D += (1/3)*Qx*(ply_pos[i,2]**3-ply_pos[i,0]**3)\n",
    "        \n",
    "        \n",
    "    #Obtention of global strains and curvature (the x axis is in the direction of the length, the y axis perpendicular to it)\n",
    "    force_array = np.array([Nx,Ny,Nxy,Mx,My,Mxy])\n",
    "    sys = np.concatenate((np.concatenate((A, B), axis=1), np.concatenate((B,D),axis = 1)),axis = 0)\n",
    "    sys_inv = np.linalg.inv(sys)\n",
    "    global_deformation = sys_inv@force_array*10**-9\n",
    "    \n",
    "    #Obtention of the deformations and stresses at each slice of the composite\n",
    "    \n",
    "    eps_up = np.zeros((len(liste), 3))\n",
    "    eps_mid = np.zeros((len(liste), 3))\n",
    "    eps_down = np.zeros((len(liste), 3))\n",
    "    eps_i = np.zeros((len(liste), 3,3))\n",
    "    \n",
    "    sig_up = np.zeros((len(liste), 3))\n",
    "    sig_mid = np.zeros((len(liste), 3))\n",
    "    sig_down = np.zeros((len(liste), 3))\n",
    "    sig_i = np.zeros((len(liste), 3,3))\n",
    "    \n",
    "    for i in range(0, len(liste)):\n",
    "        Qx = np.zeros((3,3))\n",
    "        \n",
    "        eps_up[i] = global_deformation[:3]+ply_pos[i,0]*global_deformation[3:]\n",
    "        eps_mid[i] = global_deformation[:3]+((ply_pos[i,0]+ply_pos[i,2])/2)*global_deformation[3:]\n",
    "        eps_down[i] = global_deformation[:3]+ply_pos[i,2]*global_deformation[3:]\n",
    "        eps_i[i] = np.concatenate((np.concatenate((eps_up[i],eps_mid[i]),axis=0),eps_down[i]),axis=0).reshape(3,3)\n",
    "        \n",
    "        for j in range(0,len(liste_different_orientation)):\n",
    "            if liste[i] == liste_different_orientation[j]:\n",
    "                Qx = Qtot[j]\n",
    "            else:\n",
    "                continue\n",
    "        sig_up[i] = Qx@eps_up[i]\n",
    "        sig_mid[i] = Qx@eps_mid[i]\n",
    "        sig_down[i] = Qx@eps_down[i]\n",
    "        sig_i[i] = np.concatenate((np.concatenate((sig_up[i],sig_mid[i]),axis=0),sig_down[i]),axis=0).reshape(3,3)\n",
    "\n",
    "    #plot of the results\n",
    "    \n",
    "    giga_eps = eps_i.reshape(3*len(liste),3)\n",
    "    giga_sig = sig_i.reshape(3*len(liste),3)\n",
    "    \n",
    "    plt.figure(figsize=(15, 2))\n",
    "\n",
    "    plt.subplot(131)\n",
    "    plt.plot(giga_eps[:,0],coord)\n",
    "    plt.plot(giga_eps[:,1],coord)\n",
    "    plt.plot(giga_eps[:,2],coord)\n",
    "    plt.subplot(132)\n",
    "    plt.plot(giga_sig[:,0],coord)\n",
    "    plt.plot(giga_sig[:,1],coord)\n",
    "    plt.plot(giga_sig[:,2],coord)\n",
    "    \n",
    "    return sig_i\n"
   ]
  },
  {
   "cell_type": "code",
   "execution_count": null,
   "metadata": {},
   "outputs": [],
   "source": [
    "def failure()"
   ]
  },
  {
   "cell_type": "code",
   "execution_count": 8,
   "metadata": {},
   "outputs": [
    {
     "name": "stdout",
     "output_type": "stream",
     "text": [
      "Donner les orientations des fibres en degré sous la forme: a,b,c...\n",
      "[0, 30, -45]\n",
      "Donner le module de Young dans la direction de la longueur (E1) en GPa: \n",
      "Donner le module de Young dans la direction de la largeur (E2) en GPa: \n",
      "Donner le coefficient de poisson nu12 : \n",
      "Donner le module de cisaillement G12 en GPa) : \n",
      "Donner l'épaisseur de la plaque en m : \n",
      "Donner la charge linéaire q en kN/m : \n",
      "Donner la charge ponctuelle Q en kN : \n",
      "Donner la longueur de la poutre en m : \n"
     ]
    },
    {
     "data": {
      "text/plain": [
       "array([[[ 3.35132028e-05,  6.18753564e-05, -2.75037233e-05],\n",
       "        [ 4.46400965e-05,  5.35937125e-05, -2.01518440e-05],\n",
       "        [ 5.57669903e-05,  4.53120686e-05, -1.27999647e-05]],\n",
       "\n",
       "       [[ 6.92970860e-05,  7.39141370e-05,  3.38075792e-05],\n",
       "        [ 1.06330034e-04,  7.74678239e-05,  5.90317895e-05],\n",
       "        [ 1.43362982e-04,  8.10215108e-05,  8.42559999e-05]],\n",
       "\n",
       "       [[ 1.23528348e-04,  1.56279013e-04, -1.18672465e-04],\n",
       "        [ 4.90298694e-05,  6.89384636e-05, -3.88799455e-05],\n",
       "        [-2.54686095e-05, -1.84020862e-05,  4.09125741e-05]]])"
      ]
     },
     "execution_count": 8,
     "metadata": {},
     "output_type": "execute_result"
    },
    {
     "data": {
      "image/png": "[encoded data removed]",
      "text/plain": [
       "<Figure size 1080x144 with 2 Axes>"
      ]
     },
     "metadata": {
      "needs_background": "light"
     },
     "output_type": "display_data"
    }
   ],
   "source": [
    "#Test of the function get_deformation\n",
    "liste = input(\"Donner les orientations des fibres en degré sous la forme: a,b,c...\") or \"0, 30, -45\"\n",
    "liste = orientation(liste)\n",
    "print(liste)\n",
    "E1 = float(input(\"Donner le module de Young dans la direction de la longueur (E1) en GPa: \" ) or 181)\n",
    "E2 = float(input(\"Donner le module de Young dans la direction de la largeur (E2) en GPa: \" ) or 10.3)\n",
    "nu12 = float(input(\"Donner le coefficient de poisson nu12 : \" ) or 0.28)\n",
    "nu21 = (E2/E1)*nu12\n",
    "G12=float(input(\"Donner le module de cisaillement G12 en GPa) : \" ) or 7.17)\n",
    "h = float(input(\"Donner l'épaisseur de la plaque en m : \" ) or 0.015)\n",
    "q = float(input(\"Donner la charge linéaire q en kN/m : \" ) or 0)\n",
    "Q = float(input(\"Donner la charge ponctuelle Q en kN : \" ) or 0)\n",
    "L = float(input(\"Donner la longueur de la poutre en m : \" ) or 10)\n",
    "#Mx = moment(q,Q,L)\n",
    "#Nx = Ny = Nxy = My = Mxy = 0\n",
    "Nx = Ny = 1000\n",
    "Mx = My = Mxy = Nxy = 0\n",
    "get_deformation(liste,E1,E2,nu21,nu12,G12,h,Nx,Ny,Nxy,Mx,My,Mxy)"
   ]
  },
  {
   "cell_type": "code",
   "execution_count": null,
   "metadata": {},
   "outputs": [],
   "source": []
  }
 ],
 "metadata": {
  "kernelspec": {
   "display_name": "Python 3",
   "language": "python",
   "name": "python3"
  },
  "language_info": {
   "codemirror_mode": {
    "name": "ipython",
    "version": 3
   },
   "file_extension": ".py",
   "mimetype": "text/x-python",
   "name": "python",
   "nbconvert_exporter": "python",
   "pygments_lexer": "ipython3",
   "version": "3.8.5"
  }
 },
 "nbformat": 4,
 "nbformat_minor": 4
}
