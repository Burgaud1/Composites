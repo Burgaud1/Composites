{
 "cells": [
  {
   "cell_type": "code",
   "execution_count": 1,
   "metadata": {},
   "outputs": [],
   "source": [
    "import numpy as np\n",
    "import matplotlib.pyplot as plt\n",
    "\n",
    "np.set_printoptions(precision=6, suppress=True, linewidth=150)"
   ]
  },
  {
   "cell_type": "code",
   "execution_count": 2,
   "metadata": {},
   "outputs": [],
   "source": [
    "#System definition\n",
    "\n",
    "L = 10 #m    (length of the footbridge)\n",
    "b = 2  #m    (width of the footbridge)\n",
    "\n",
    "h0 = 0.02 #m (hypothesis on height of the footbridge deck)\n",
    "\n",
    "h_layer= 0.005 #m \n",
    "\n"
   ]
  },
  {
   "cell_type": "code",
   "execution_count": 3,
   "metadata": {},
   "outputs": [],
   "source": [
    "#Material definition\n",
    "\n",
    "E1 = 181 #GPa\n",
    "E2 = 10.3 #GPa\n",
    "G12 = 7.17 #GPa\n",
    "nu12 = 0.28\n",
    "nu21=nu21 = (E2/E1)*nu12\n",
    "\n",
    "#E1 = float(input(\"Donner le module de Young dans la direction de la longueur (E1) en GPa: \" ) or 181)\n",
    "#E2 = float(input(\"Donner le module de Young dans la direction de la largeur (E2) en GPa: \" ) or 10.3)\n",
    "#nu12 = float(input(\"Donner le coefficient de poisson nu12 : \" ) or 0.28)\n",
    "#nu21 = (E2/E1)*nu12\n",
    "#G12=float(input(\"Donner le module de cisaillement G12 en GPa) : \" ) or 7.17)\n"
   ]
  },
  {
   "cell_type": "code",
   "execution_count": 4,
   "metadata": {},
   "outputs": [],
   "source": [
    "#Loads definition\n",
    "\n",
    "qv=0 #kN/m\n",
    "qh=0\n",
    "qy=0\n",
    "Q=0\n",
    "\n"
   ]
  },
  {
   "cell_type": "code",
   "execution_count": 5,
   "metadata": {},
   "outputs": [],
   "source": [
    "#Definition of the function \"moment\" to compute the moment, given the linear and ponctual loads for a simply supported beam\n",
    "def moment(qh,qv,Q,L):\n",
    "    My = (qv*L**2)/8 + Q*L/4 #kNm\n",
    "    Mx=0\n",
    "    Mxy=0\n",
    "    return My, Mx, Mxy"
   ]
  },
  {
   "cell_type": "code",
   "execution_count": 6,
   "metadata": {},
   "outputs": [],
   "source": [
    "#Definition of the function \"shear\" to compute the shear force, given the linear and ponctual loads for a simply supported beam\n",
    "def shear(qh, qv,qy,Q,L):\n",
    "    Vz = qv*L/2 + Q/2 #kN\n",
    "    return Vz"
   ]
  },
  {
   "cell_type": "code",
   "execution_count": 7,
   "metadata": {},
   "outputs": [],
   "source": [
    "#Definition of the axial force\n",
    "def axial(qh,qv,qy,Q,L):\n",
    "    Nx=qh*b #kN\n",
    "    Ny=qy*L #kN\n",
    "    Nxy=0\n",
    "    return Nx, Ny, Nxy"
   ]
  },
  {
   "cell_type": "code",
   "execution_count": 8,
   "metadata": {},
   "outputs": [],
   "source": [
    "#Code to define the orientations of the fibers in the different laminates and put it into a list\n",
    "def orientation(liste):\n",
    "    code_orientation = liste.split(\",\")\n",
    "    for i in range(0,len(code_orientation)):\n",
    "        code_orientation[i] = int(code_orientation[i])\n",
    "        i +=1\n",
    "    return code_orientation"
   ]
  },
  {
   "cell_type": "code",
   "execution_count": 14,
   "metadata": {},
   "outputs": [],
   "source": [
    "# This function gives the deformation for each ply, given the mechanical parameters\n",
    "def get_deformation(liste,E1,E2,nu21,nu12,G12,h,Nx,Ny,Nxy,Mx,My,Mxy):\n",
    "    Q11 = E1/(1-nu21*nu12)*10**9\n",
    "    Q12 = nu12*E2/(1-nu21*nu12)*10**9\n",
    "    Q22 = E2/(1-nu21*nu12)*10**9\n",
    "    Q66 = G12*10**9\n",
    "    \n",
    "    liste_different_orientation = []\n",
    "   \n",
    "    #To get the different angles of orientation of the fibers\n",
    "    for i in range(0,len(liste)):\n",
    "        if liste[i] in liste_different_orientation:\n",
    "            continue\n",
    "        else:\n",
    "            liste_different_orientation.append(liste[i])\n",
    "    \n",
    "    liste_different_orientation = np.array(liste_different_orientation)\n",
    "    \n",
    "    Qtot = np.zeros((len(liste_different_orientation), 3, 3))\n",
    "    \n",
    "    # To get the different matrices Q at each ply\n",
    "    for i in range(0,len(liste_different_orientation)):\n",
    "        a = liste_different_orientation[i]*(np.pi/180)\n",
    "        m = np.cos(a)\n",
    "        n = np.sin(a)\n",
    "        Qxx = Q11*m**4+Q22*n**4+2*(Q12+2*Q66)*m**2*n**2\n",
    "        Qxy = (Q11+Q22-4*Q66)*m**2*n**2+Q12*(m**4+n**4)\n",
    "        Qyy = Q11*n**4+Q22*m**4+2*(Q12+2*Q66)*m**2*n**2\n",
    "        Qxs = (Q11-Q12-2*Q66)*m**3*n-(Q22-Q12-2*Q66)*n**3*m\n",
    "        Qys = (Q11-Q12-2*Q66)*m*n**3-(Q22-Q12-2*Q66)*m**3*n\n",
    "        Qss = (Q11+Q22-2*Q12-2*Q66)*m**2*n**2+Q66*(n**4+m**4)\n",
    "        Qtot[i] = np.array([[Qxx,Qxy,Qxs],[Qxy,Qyy,Qys],[Qxs,Qys,Qss]])\n",
    "        \n",
    "    #To get the position of the different plies, with the origin at the centre of the plate (zd for down, zu for up), z axis oriented from up to down\n",
    "     \n",
    "    ply_pos = np.zeros((len(liste), 3))\n",
    "    t = h/len(liste)\n",
    "    \n",
    "    for i in range(0,len(liste)):\n",
    "        zu = -h/2+i*t\n",
    "        zd = -h/2+(i+1)*t\n",
    "        zm = (zu+zd)/2\n",
    "        ply_pos[i] = np.array([[zu,zm,zd]])\n",
    "        \n",
    "    # Global coordinates\n",
    "    coord  = ply_pos.reshape(3*len(ply_pos))\n",
    "        \n",
    "    #Definition of the matrices A,B,D\n",
    "    A = np.zeros((3, 3))\n",
    "    B = np.zeros((3, 3))\n",
    "    D = np.zeros((3, 3))\n",
    "    \n",
    "    for i in range(0,len(liste)):\n",
    "        Qx = np.zeros((3,3))\n",
    "        ply_pos_i = np.array(ply_pos[i])\n",
    "        for j in range(0,len(liste_different_orientation)):\n",
    "            if liste[i] == liste_different_orientation[j]:\n",
    "                Qx = Qtot[j]\n",
    "            else:\n",
    "                continue\n",
    "        A += Qx*(ply_pos[i,2]-ply_pos[i,0])\n",
    "        B += (1/2)*Qx*(ply_pos[i,2]**2-ply_pos[i,0]**2)\n",
    "        D += (1/3)*Qx*(ply_pos[i,2]**3-ply_pos[i,0]**3)\n",
    "        \n",
    "        \n",
    "    #Obtention of global strains and curvature (the x axis is in the direction of the length, the y axis perpendicular to it)\n",
    "    force_array = np.array([Nx,Ny,Nxy,Mx,My,Mxy])\n",
    "    sys = np.concatenate((np.concatenate((A, B), axis=1), np.concatenate((B,D),axis = 1)),axis = 0)\n",
    "    sys_inv = np.linalg.inv(sys)\n",
    "    global_deformation = sys_inv@force_array\n",
    "    \n",
    "    #Obtention of the deformations and stresses at each slice of the composite in global coordinates\n",
    "    \n",
    "    eps_up = np.zeros((len(liste), 3))\n",
    "    eps_mid = np.zeros((len(liste), 3))\n",
    "    eps_down = np.zeros((len(liste), 3))\n",
    "    eps_i = np.zeros((len(liste), 3,3))\n",
    "    \n",
    "    sig_up = np.zeros((len(liste), 3))\n",
    "    sig_il_up= np.zeros((len(liste), 3))\n",
    "    sig_mid = np.zeros((len(liste), 3))\n",
    "    sig_il_mid=np.zeros((len(liste), 3))\n",
    "    sig_down = np.zeros((len(liste), 3))\n",
    "    sig_il_down=np.zeros((len(liste), 3))\n",
    "    sig_i = np.zeros((len(liste), 3,3))\n",
    "    sig_il= np.zeros((len(liste), 3,3))\n",
    "    \n",
    "    for i in range(0, len(liste)):\n",
    "\n",
    "        #transformation matrix\n",
    "        a=liste[i]*(np.pi/180)\n",
    "        m = np.cos(a)\n",
    "        n = np.sin(a)\n",
    "        T=np.array([[m**2, n**2, 2*m*n],[n**2,m**2, -2*m*n],[-m*n, n*m,m**2-n**2 ]])\n",
    "\n",
    "        Qx = np.zeros((3,3))\n",
    "        \n",
    "        eps_up[i] = global_deformation[:3]+ply_pos[i,0]*global_deformation[3:]\n",
    "        eps_mid[i] = global_deformation[:3]+((ply_pos[i,0]+ply_pos[i,2])/2)*global_deformation[3:]\n",
    "        eps_down[i] = global_deformation[:3]+ply_pos[i,2]*global_deformation[3:]\n",
    "        eps_i[i] = np.concatenate((np.concatenate((eps_up[i],eps_mid[i]),axis=0),eps_down[i]),axis=0).reshape(3,3)\n",
    "        \n",
    "        for j in range(0,len(liste_different_orientation)):\n",
    "            if liste[i] == liste_different_orientation[j]:\n",
    "                Qx = Qtot[j]\n",
    "            else:\n",
    "                continue\n",
    "            \n",
    "        sig_up[i] = Qx@eps_up[i]\n",
    "        sig_il_up[i]=T@sig_up[i]\n",
    "        sig_mid[i] = Qx@eps_mid[i]\n",
    "        sig_il_mid[i]=T@sig_mid[i]\n",
    "        sig_down[i] = Qx@eps_down[i]\n",
    "        sig_il_down[i]=T@sig_down[i]\n",
    "        sig_i[i] = np.concatenate((np.concatenate((sig_up[i],sig_mid[i]),axis=0),sig_down[i]),axis=0).reshape(3,3)\n",
    "        sig_il[i]=np.concatenate((np.concatenate((sig_up[i],sig_mid[i]),axis=0),sig_down[i]),axis=0).reshape(3,3)\n",
    "\n",
    "    print(Qx)\n",
    "    print(f\"sig_i={sig_i}\")\n",
    "    print(f\"sig_il={sig_il}\")\n",
    "    \n",
    "    \n",
    "    return coord, eps_i, sig_i, sig_il\n"
   ]
  },
  {
   "cell_type": "code",
   "execution_count": 15,
   "metadata": {},
   "outputs": [],
   "source": [
    "#print stresses and strains graph\n",
    "\n",
    "\n",
    "def print_stresses_strains(eps_i, sig_i, liste, coord):\n",
    "\n",
    "    #plot of the results\n",
    "    \n",
    "    giga_eps = eps_i.reshape(3*len(liste),3)\n",
    "    giga_sig = sig_i.reshape(3*len(liste),3)\n",
    "\n",
    "    #get the maximum values\n",
    "    maxeps=[]\n",
    "    maxsig=[]\n",
    "\n",
    "    #max_eps_x=np.max()\n",
    "    \n",
    "    plt.figure(figsize=(7, 5))\n",
    "\n",
    "    #plt.subplot(131)\n",
    "    plt.plot(giga_eps[:,0],coord, '-o', mfc=\"w\",label=r\"$\\varepsilon_{x}$\")  #tip: le r devant fait du LateX !!\n",
    "    plt.plot(giga_eps[:,1],coord,'-o', mfc=\"w\",label=r\"$\\varepsilon_{y}$\")\n",
    "    plt.plot(giga_eps[:,2],coord,'-o', mfc=\"w\",label=r\"$\\gamma_{xy}$\")\n",
    "    plt.xlabel('Strains [-]')\n",
    "    plt.ylabel('z [m]')\n",
    "    plt.title('Strains in each fibers (top/middle/bottom)')\n",
    "    i = np.abs(giga_eps[:,0]).argmax()\n",
    "    maxeps.append(giga_eps[:,0][i])\n",
    "    plt.text(giga_eps[:,0][i]*0.5, coord[i]*0.9, rf\"$\\varepsilon_{{x}}={giga_eps[:,0][i]:.6e}$\")  #tip: quand f et r mettre deux accolades autour du subscript pour pas que cela soit considérer comme une variable ! \n",
    "    i = np.abs(giga_eps[:,1]).argmax()\n",
    "    maxeps.append(giga_eps[:,1][i])\n",
    "    plt.text(giga_eps[:,1][i]*0.5, coord[i]*0.9, rf\"$\\varepsilon_{{y}}={giga_eps[:,1][i]:.6e}$\")\n",
    "    i = np.abs(giga_eps[:,2]).argmax()\n",
    "    maxeps.append(giga_eps[:,2][i])\n",
    "    plt.text(giga_eps[:,2][i]*0.5, coord[i]*0.9, rf\"$\\gamma_{{xy}}={giga_eps[:,2][i]:.6e}$\")\n",
    "    plt.legend()\n",
    "\n",
    "    plt.show()\n",
    "    print(f'{maxeps = }')\n",
    "\n",
    "    #plt.subplot(132)\n",
    "    plt.plot(giga_sig[:,0],coord,'-o', mfc=\"w\",label=r\"$\\sigma_{{x}}$\")\n",
    "    plt.plot(giga_sig[:,1],coord,'-o', mfc=\"w\",label=r\"$\\sigma_{{y}}$\")\n",
    "    plt.plot(giga_sig[:,2],coord,'-o', mfc=\"w\", label=r\"$\\tau_{{xy}}$\")\n",
    "    plt.xlabel('Stresses [Pa]')\n",
    "    plt.ylabel('z [m]')\n",
    "    plt.title('Stresses in each fibers (top/middle/bottom)')\n",
    "    i = np.abs(giga_sig[:,0]).argmax()\n",
    "    maxsig.append(giga_sig[:,0][i])\n",
    "    plt.text(giga_sig[:,0][i]*0.5, coord[i]*0.9, rf\"$\\sigma_{{x}}={giga_sig[:,0][i]:.6e}$\")  #tip: quand f et r mettre deux accolades autour du subscript pour pas que cela soit considérer comme une variable ! \n",
    "    i = np.abs(giga_sig[:,1]).argmax()\n",
    "    maxsig.append(giga_sig[:,1][i])\n",
    "    plt.text(giga_sig[:,1][i]*0.5, coord[i]*0.9, rf\"$\\sigma_{{y}}={giga_sig[:,1][i]:.6e}$\")\n",
    "    i = np.abs(giga_sig[:,2]).argmax()\n",
    "    maxsig.append(giga_sig[:,2][i])\n",
    "    plt.text(giga_sig[:,2][i]*0.5, coord[i]*0.9, rf\"$\\tau_{{xy}}={giga_sig[:,2][i]:.6e}$\")\n",
    "    plt.legend()\n",
    "\n",
    "    plt.show()\n",
    "    print(f'{maxsig = }')\n",
    "\n",
    "    return None"
   ]
  },
  {
   "cell_type": "code",
   "execution_count": 16,
   "metadata": {},
   "outputs": [],
   "source": [
    "#caracteristic values for failure for glass fibers E with epoxy resin\n",
    "Vf = 0.6\n",
    "Xt = 1400 #MPa\n",
    "Xc = 910 #MPa\n",
    "Yt = 35 #MPa\n",
    "Yc = 110 #MPa\n",
    "S = 70 #MPa \n",
    "\n",
    "\n",
    "def failure(sig_il, xt,yt, xc, yc,s, liste):\n",
    "    F11=1/(xc*xt)\n",
    "    F22=1/(yc*yt)\n",
    "    F1=1/xt-1/xc\n",
    "    F2=1/yt-1/yc\n",
    "    F12=-0.5*np.sqrt(F11*F22) #tsai Hhan for a theoretical determination of Fij\n",
    "    F66=1/s**2\n",
    "\n",
    "    for i in range(0, len(liste)):\n",
    "        for j in range(3):\n",
    "        #failure criteria: filure occurs when the equation is equal to 1\n",
    "            f=F11*sig_il[i,j,0]**2+F22*sig_il[i,j,1]**2+F66*sig_il[i,j,2]+2*(F12*sig_il[i,j,0]*sig_il[i,j,1])+F1*sig_il[i,j,0]+F2*sig_il[i,j,1]\n",
    "            if f<1:\n",
    "                fail=False\n",
    "            else:\n",
    "                fail=True\n",
    "                liste.append(liste)\n",
    "                \n",
    "                raise ValueError(\"Failure !!!!!\")\n",
    "            \n",
    "    if fail==False:\n",
    "        print('There is no failure !')\n",
    "\n",
    "    return fail\n",
    "\n"
   ]
  },
  {
   "cell_type": "code",
   "execution_count": 17,
   "metadata": {},
   "outputs": [
    {
     "name": "stdout",
     "output_type": "stream",
     "text": [
      "Donner les orientations des fibres en degré sous la forme: a,b,c...\n",
      "[0, 30, -45]\n",
      "[0, 30, -45]\n",
      "3\n",
      "0.015\n"
     ]
    }
   ],
   "source": [
    "#Test of the function get_deformation\n",
    "liste = input(\"Donner les orientations des fibres en degré sous la forme: a,b,c...\") or \"0, 30, -45\"\n",
    "liste = orientation(liste)\n",
    "print(liste)\n",
    "print(liste)\n",
    "h = h_layer*len(liste)\n",
    "print(len(liste))\n",
    "print(h)\n",
    "\n",
    "#q = float(input(\"Donner la charge linéaire q en kN/m : \" ) or 10)\n",
    "#Q = float(input(\"Donner la charge ponctuelle Q en kN : \" ) or 0)\n",
    "#L = float(input(\"Donner la longueur de la poutre en m : \" ) or 10)\n",
    "\n",
    "\n"
   ]
  },
  {
   "cell_type": "code",
   "execution_count": 18,
   "metadata": {},
   "outputs": [
    {
     "name": "stdout",
     "output_type": "stream",
     "text": [
      "[[ 5.665779e+10  4.231779e+10 -4.286625e+10]\n",
      " [ 4.231779e+10  5.665779e+10 -4.286625e+10]\n",
      " [-4.286625e+10 -4.286625e+10  4.659086e+10]]\n",
      "sig_i=[[[  33513.202761   61875.356385  -27503.723283]\n",
      "  [  44640.096542   53593.712473  -20151.843992]\n",
      "  [  55766.990323   45312.068561  -12799.9647  ]]\n",
      "\n",
      " [[  69297.085961   73914.137039   33807.579167]\n",
      "  [ 106330.034079   77467.823901   59031.789532]\n",
      "  [ 143362.982196   81021.510763   84255.999897]]\n",
      "\n",
      " [[ 123528.348302  156279.013491 -118672.465176]\n",
      "  [  49029.869379   68938.463626  -38879.945541]\n",
      "  [ -25468.609543  -18402.086239   40912.574095]]]\n",
      "sig_il=[[[  33513.202761   61875.356385  -27503.723283]\n",
      "  [  44640.096542   53593.712473  -20151.843992]\n",
      "  [  55766.990323   45312.068561  -12799.9647  ]]\n",
      "\n",
      " [[  69297.085961   73914.137039   33807.579167]\n",
      "  [ 106330.034079   77467.823901   59031.789532]\n",
      "  [ 143362.982196   81021.510763   84255.999897]]\n",
      "\n",
      " [[ 123528.348302  156279.013491 -118672.465176]\n",
      "  [  49029.869379   68938.463626  -38879.945541]\n",
      "  [ -25468.609543  -18402.086239   40912.574095]]]\n"
     ]
    },
    {
     "data": {
      "image/png": "[encoded data removed]",
      "text/plain": [
       "<Figure size 504x360 with 1 Axes>"
      ]
     },
     "metadata": {
      "needs_background": "light"
     },
     "output_type": "display_data"
    },
    {
     "name": "stdout",
     "output_type": "stream",
     "text": [
      "maxeps = [5.351526377496039e-07, 5.955472525320855e-06, -3.835944669934515e-06]\n"
     ]
    },
    {
     "data": {
      "image/png": "[encoded data removed]",
      "text/plain": [
       "<Figure size 432x288 with 1 Axes>"
      ]
     },
     "metadata": {
      "needs_background": "light"
     },
     "output_type": "display_data"
    },
    {
     "name": "stdout",
     "output_type": "stream",
     "text": [
      "maxsig = [143362.9821961568, 156279.0134907556, -118672.46517582076]\n"
     ]
    },
    {
     "ename": "ValueError",
     "evalue": "Failure !!!!!",
     "output_type": "error",
     "traceback": [
      "\u001b[1;31m---------------------------------------------------------------------------\u001b[0m",
      "\u001b[1;31mValueError\u001b[0m                                Traceback (most recent call last)",
      "\u001b[1;32m<ipython-input-18-12dd041d163f>\u001b[0m in \u001b[0;36m<module>\u001b[1;34m\u001b[0m\n\u001b[0;32m      7\u001b[0m \u001b[0mcoord\u001b[0m\u001b[1;33m,\u001b[0m \u001b[0meps_i\u001b[0m\u001b[1;33m,\u001b[0m \u001b[0msig_i\u001b[0m\u001b[1;33m,\u001b[0m \u001b[0msig_il\u001b[0m\u001b[1;33m=\u001b[0m\u001b[0mget_deformation\u001b[0m\u001b[1;33m(\u001b[0m\u001b[0mliste\u001b[0m\u001b[1;33m,\u001b[0m\u001b[0mE1\u001b[0m\u001b[1;33m,\u001b[0m\u001b[0mE2\u001b[0m\u001b[1;33m,\u001b[0m\u001b[0mnu21\u001b[0m\u001b[1;33m,\u001b[0m\u001b[0mnu12\u001b[0m\u001b[1;33m,\u001b[0m\u001b[0mG12\u001b[0m\u001b[1;33m,\u001b[0m\u001b[0mh\u001b[0m\u001b[1;33m,\u001b[0m\u001b[0mNx\u001b[0m\u001b[1;33m,\u001b[0m\u001b[0mNy\u001b[0m\u001b[1;33m,\u001b[0m\u001b[0mNxy\u001b[0m\u001b[1;33m,\u001b[0m\u001b[0mMx\u001b[0m\u001b[1;33m,\u001b[0m\u001b[0mMy\u001b[0m\u001b[1;33m,\u001b[0m\u001b[0mMxy\u001b[0m\u001b[1;33m)\u001b[0m\u001b[1;33m\u001b[0m\u001b[1;33m\u001b[0m\u001b[0m\n\u001b[0;32m      8\u001b[0m \u001b[0mprint_stresses_strains\u001b[0m\u001b[1;33m(\u001b[0m\u001b[0meps_i\u001b[0m\u001b[1;33m,\u001b[0m \u001b[0msig_i\u001b[0m\u001b[1;33m,\u001b[0m \u001b[0mliste\u001b[0m\u001b[1;33m,\u001b[0m \u001b[0mcoord\u001b[0m\u001b[1;33m)\u001b[0m\u001b[1;33m\u001b[0m\u001b[1;33m\u001b[0m\u001b[0m\n\u001b[1;32m----> 9\u001b[1;33m \u001b[0mfail\u001b[0m\u001b[1;33m=\u001b[0m\u001b[0mfailure\u001b[0m\u001b[1;33m(\u001b[0m\u001b[0msig_il\u001b[0m\u001b[1;33m,\u001b[0m \u001b[0mXt\u001b[0m\u001b[1;33m,\u001b[0m\u001b[0mYt\u001b[0m\u001b[1;33m,\u001b[0m \u001b[0mXc\u001b[0m\u001b[1;33m,\u001b[0m \u001b[0mYc\u001b[0m\u001b[1;33m,\u001b[0m\u001b[0mS\u001b[0m\u001b[1;33m,\u001b[0m \u001b[0mliste\u001b[0m\u001b[1;33m)\u001b[0m\u001b[1;33m\u001b[0m\u001b[1;33m\u001b[0m\u001b[0m\n\u001b[0m\u001b[0;32m     10\u001b[0m \u001b[0mprint\u001b[0m\u001b[1;33m(\u001b[0m\u001b[0mfail\u001b[0m\u001b[1;33m)\u001b[0m\u001b[1;33m\u001b[0m\u001b[1;33m\u001b[0m\u001b[0m\n",
      "\u001b[1;32m<ipython-input-16-f6620c3a16a5>\u001b[0m in \u001b[0;36mfailure\u001b[1;34m(sig_il, xt, yt, xc, yc, s, liste)\u001b[0m\n\u001b[0;32m     26\u001b[0m                 \u001b[0mliste\u001b[0m\u001b[1;33m.\u001b[0m\u001b[0mappend\u001b[0m\u001b[1;33m(\u001b[0m\u001b[0mliste\u001b[0m\u001b[1;33m)\u001b[0m\u001b[1;33m\u001b[0m\u001b[1;33m\u001b[0m\u001b[0m\n\u001b[0;32m     27\u001b[0m \u001b[1;33m\u001b[0m\u001b[0m\n\u001b[1;32m---> 28\u001b[1;33m                 \u001b[1;32mraise\u001b[0m \u001b[0mValueError\u001b[0m\u001b[1;33m(\u001b[0m\u001b[1;34m\"Failure !!!!!\"\u001b[0m\u001b[1;33m)\u001b[0m\u001b[1;33m\u001b[0m\u001b[1;33m\u001b[0m\u001b[0m\n\u001b[0m\u001b[0;32m     29\u001b[0m \u001b[1;33m\u001b[0m\u001b[0m\n\u001b[0;32m     30\u001b[0m     \u001b[1;32mif\u001b[0m \u001b[0mfail\u001b[0m\u001b[1;33m==\u001b[0m\u001b[1;32mFalse\u001b[0m\u001b[1;33m:\u001b[0m\u001b[1;33m\u001b[0m\u001b[1;33m\u001b[0m\u001b[0m\n",
      "\u001b[1;31mValueError\u001b[0m: Failure !!!!!"
     ]
    }
   ],
   "source": [
    "Nx=1000\n",
    "Ny=1000\n",
    "Nxy=0\n",
    "My,Mx,Mxy=moment(qh,qv,Q,L)\n",
    "Vy=shear(qh,qv,qy,Q,L)\n",
    "\n",
    "coord, eps_i, sig_i, sig_il=get_deformation(liste,E1,E2,nu21,nu12,G12,h,Nx,Ny,Nxy,Mx,My,Mxy)\n",
    "print_stresses_strains(eps_i, sig_i, liste, coord)\n",
    "fail=failure(sig_il, Xt,Yt, Xc, Yc,S, liste)\n",
    "print(fail)"
   ]
  },
  {
   "cell_type": "code",
   "execution_count": null,
   "metadata": {},
   "outputs": [],
   "source": [
    "\n",
    "\n",
    "\n",
    "\n",
    "\n"
   ]
  }
 ],
 "metadata": {
  "kernelspec": {
   "display_name": "Python 3",
   "language": "python",
   "name": "python3"
  },
  "language_info": {
   "codemirror_mode": {
    "name": "ipython",
    "version": 3
   },
   "file_extension": ".py",
   "mimetype": "text/x-python",
   "name": "python",
   "nbconvert_exporter": "python",
   "pygments_lexer": "ipython3",
   "version": "3.8.5"
  }
 },
 "nbformat": 4,
 "nbformat_minor": 4
}
